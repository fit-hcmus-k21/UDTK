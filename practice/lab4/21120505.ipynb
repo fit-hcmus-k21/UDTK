{
 "cells": [
  {
   "cell_type": "code",
   "execution_count": 35,
   "metadata": {},
   "outputs": [],
   "source": [
    "from matplotlib import pyplot as plt\n",
    "import numpy as np\n",
    "import sympy \n",
    "from sympy import Matrix \n",
    "from fractions import Fraction \n",
    "import math\n"
   ]
  },
  {
   "attachments": {},
   "cell_type": "markdown",
   "metadata": {},
   "source": [
    "<div style=\"color:pink\">\n",
    "\n",
    "#### Bài 1:\n",
    "\n",
    "Kiểm tra tính lồi/ lõm và tìm cực trị toàn cục nếu có của hàm $\\mathcal{f(x)}$ = $x^TAx + q^Tx + 1$  với x = ($x_1, x_2, x_3$), </br></br>\n",
    "\n",
    "<div align=\"center\">\n",
    "\n",
    "A = $\\begin{bmatrix}\n",
    "1 & -2 & 1 \\\\\n",
    "-2 & 1 & -2 \\\\\n",
    "1 & -2 & 1 \\\\\n",
    "\\end{bmatrix}$ và $q = \\begin{bmatrix}\n",
    "                        1 \\\\ 2 \\\\ -1 \\\\\n",
    "                        \\end{bmatrix}$\n",
    "\n",
    "</div>\n",
    "\n",
    "</div>"
   ]
  },
  {
   "attachments": {},
   "cell_type": "markdown",
   "metadata": {},
   "source": [
    "`Solution:` </br> </br>\n",
    "Để kiểm tra tính lồi lõm của hàm $\\mathcal{f}$, ta tìm các trị riêng của ma trận A và kiểm tra xem tất cả có không âm hay không như sau: "
   ]
  },
  {
   "cell_type": "code",
   "execution_count": null,
   "metadata": {},
   "outputs": [],
   "source": []
  },
  {
   "cell_type": "code",
   "execution_count": 110,
   "metadata": {},
   "outputs": [
    {
     "data": {
      "text/plain": [
       "array([[ 1, -2,  1],\n",
       "       [-2,  1, -2],\n",
       "       [ 1, -2,  1]])"
      ]
     },
     "execution_count": 110,
     "metadata": {},
     "output_type": "execute_result"
    }
   ],
   "source": [
    "A = np.array([[1,-2,1],[-2,1,-2],[1,-2,1]])\n",
    "A"
   ]
  },
  {
   "cell_type": "code",
   "execution_count": 111,
   "metadata": {},
   "outputs": [
    {
     "name": "stdout",
     "output_type": "stream",
     "text": [
      "[ 4.37228132e+00 -1.11548217e-16 -1.37228132e+00]\n",
      "[ 4.37 -0.   -1.37]\n"
     ]
    }
   ],
   "source": [
    "eigenvalues = np.linalg.eig(A)[0]\n",
    "print(eigenvalues)\n",
    "\n",
    "\n",
    "rounded_eigenvalue = np.round(eigenvalues, decimals=2)\n",
    "print(rounded_eigenvalue)\n"
   ]
  },
  {
   "attachments": {},
   "cell_type": "markdown",
   "metadata": {},
   "source": [
    "<div style=\"color: pink\">\n",
    "\n",
    "#### Bài 2: \n",
    "Một người đi xạ trị bệnh bằng việc bơm thuốc vào người. Khi vừa xạ trị xong, lượng thuốc tồn động trong người ở mức 10 đơn vị. Sau đó 1h sau lượng thuốc còn lại là 8; lần lượt 2, 3, 4 giờ sau lượng thuốc còn lại là 7, 5 và 2.</br> </br>\n",
    "Hãy viết các lệnh Python để tìm phương trình tuyến tính bằng phương pháp bình phương tối tiểu với tập các cặp số (x, y) như bên dưới để tìm công thức giảm lượng thuốc đối với bệnh nhân theo thời gian:\n",
    "<div align = \"center\">\n",
    "    (x, y) = {(0, 10), (1, 8), (2, 7), (3, 5), (4, 2)}\n",
    "</div>\n",
    "\n",
    "</div>"
   ]
  },
  {
   "attachments": {},
   "cell_type": "markdown",
   "metadata": {},
   "source": [
    "`Solution:` </br> </br>\n",
    "\n",
    "Giả sử phương trình tuyến tình là $y = ax + b$ </br>\n",
    "Ta có bảng dữ liệu : </br>\n",
    "<div align=\"center\">\n",
    "\n",
    "| x | 0 | 1 | 2 | 3 |4 |\n",
    "| ---|---|---|---|---|---|\n",
    "| y | 10 | 8 | 7 | 5 | 2|\n",
    "\n",
    "</div>\n",
    "</br>\n",
    "\n",
    "Ycbt $\\Leftrightarrow$ tìm nghiệm bình phương tối tiểu của $Ax = b$ với ma trận A và vector b như sau: </br>\n",
    "<div align=\"center\">\n",
    "\n",
    "$A = \\begin{bmatrix}\n",
    "    0 & 1 \\\\\n",
    "    1 & 1 \\\\\n",
    "    2 & 1 \\\\\n",
    "    3 & 1 \\\\\n",
    "    4 & 1 \\\\\n",
    "\\end{bmatrix}$ , $b = \\begin{bmatrix}\n",
    "                        10 \\\\\n",
    "                        8 \\\\\n",
    "                        7 \\\\\n",
    "                        5 \\\\\n",
    "                        2 \\\\\n",
    "                    \\end{bmatrix}$\n",
    "\n",
    "</div>"
   ]
  },
  {
   "cell_type": "code",
   "execution_count": 112,
   "metadata": {},
   "outputs": [
    {
     "name": "stdout",
     "output_type": "stream",
     "text": [
      "[[0 1]\n",
      " [1 1]\n",
      " [2 1]\n",
      " [3 1]\n",
      " [4 1]]\n",
      "[[10]\n",
      " [ 8]\n",
      " [ 7]\n",
      " [ 5]\n",
      " [ 2]]\n"
     ]
    }
   ],
   "source": [
    "A = np.array([[0,1],[1,1],[2,1],[3,1],[4,1]])\n",
    "b = np.array([[10],[8],[7],[5],[2]])\n",
    "print(A)\n",
    "print(b)"
   ]
  },
  {
   "attachments": {},
   "cell_type": "markdown",
   "metadata": {},
   "source": [
    "Tính tích $A^TA$ và gán cho ma trận X."
   ]
  },
  {
   "cell_type": "code",
   "execution_count": 113,
   "metadata": {},
   "outputs": [
    {
     "data": {
      "text/plain": [
       "array([[30, 10],\n",
       "       [10,  5]])"
      ]
     },
     "execution_count": 113,
     "metadata": {},
     "output_type": "execute_result"
    }
   ],
   "source": [
    "X = np.matmul(np.transpose(A), A)\n",
    "X"
   ]
  },
  {
   "attachments": {},
   "cell_type": "markdown",
   "metadata": {},
   "source": [
    "Tính tích $A^Tb$ và gán cho ma trận Y."
   ]
  },
  {
   "cell_type": "code",
   "execution_count": 114,
   "metadata": {},
   "outputs": [
    {
     "data": {
      "text/plain": [
       "array([[45],\n",
       "       [32]])"
      ]
     },
     "execution_count": 114,
     "metadata": {},
     "output_type": "execute_result"
    }
   ],
   "source": [
    "Y = np.matmul(np.transpose(A), b)\n",
    "Y"
   ]
  },
  {
   "attachments": {},
   "cell_type": "markdown",
   "metadata": {},
   "source": [
    "Tính nghiệm bình phương tối tiểu:"
   ]
  },
  {
   "cell_type": "code",
   "execution_count": 115,
   "metadata": {},
   "outputs": [
    {
     "data": {
      "text/plain": [
       "array([[-1.9],\n",
       "       [10.2]])"
      ]
     },
     "execution_count": 115,
     "metadata": {},
     "output_type": "execute_result"
    }
   ],
   "source": [
    "x_sol_square = np.matmul(np.linalg.inv(X), Y)\n",
    "x_sol_square"
   ]
  },
  {
   "attachments": {},
   "cell_type": "markdown",
   "metadata": {},
   "source": [
    "Vậy nghiệm bình phương tối tiểu của $Ax = b$ là $x_0$ = $\\left(\\frac{-19}{10}, \\frac{51}{5}\\right)$ </br> </br>\n",
    "$\\rightarrow$ Phương trình tuyến tính cần tìm là $y = \\frac{-19x}{10} + \\frac{51}{5}$"
   ]
  },
  {
   "attachments": {},
   "cell_type": "markdown",
   "metadata": {},
   "source": [
    "<div style=\"color:pink\">\n",
    "\n",
    "#### Bài 3:\n",
    "Một thí nghiệm xét mối liên hệ giữa độ giảm trọng lượng của hợp chất (y, tính bằng gam) và khoảng thời gian mà hợp chất tiếp xúc với không khí (x, tính bằng năm), trong đó số âm có thể hiểu là giai đoạn xử lý nguyên liệu, trước khi điều chế ra hợp chất. Ta có bảng dữ liệu như sau: </br>\n",
    "<div align=\"center\">\n",
    "\n",
    "| x | -2 | 0 | 1 | 2 | 4|\n",
    "|------|------|------|-----|------|------|\n",
    "| y | -1 | 1.5 | 3.1 | 6.3 | 11.1|\n",
    "\n",
    "</div>\n",
    "\n",
    "a) Giả sử x, y thỏa mãn mô hình $y = a + bx + c\\ln(x^2 + 1)$. Hãy sử dụng phương pháp bình phương cực tiểu, ước lượng các tham số a, b, c. </br> </br>\n",
    "b) Vẽ đồ thị cho dữ liệu. Sử dụng kết quả trên để dự đoán y khi x = 6.5. </br> </br>\n",
    "c) Hỏi có nên dùng mô hình $y = a + bx + c\\ln(x)$ hoặc $y = a + bx + \\frac{c}{x}$ để xấp xỉ dữ liệu trên không? Vì sao?\n",
    "\n",
    "</div>"
   ]
  },
  {
   "attachments": {},
   "cell_type": "markdown",
   "metadata": {},
   "source": [
    "`Solution:` </br> \n",
    "\n",
    "`a)` </br>\n",
    "Mô hình $y = a + bx + c\\ln(x^2 + 1)$ : </br>\n"
   ]
  },
  {
   "attachments": {},
   "cell_type": "markdown",
   "metadata": {},
   "source": [
    "Giải bài toán tìm nghiệm bình phương cực tiểu $Ax = b$ với : </br>\n",
    "\n",
    "<div align=\"center\">\n",
    "\n",
    "$A = \\begin{bmatrix}\n",
    "      1 & -2 & \\ln((-2)^2 + 1) \\\\\n",
    "      1 & 0 & \\ln(0^2 + 1) \\\\\n",
    "      1 & 1 & \\ln(1^2 + 1) \\\\\n",
    "      1 & 2 & \\ln(2^2 + 1) \\\\\n",
    "      1 & 4 & \\ln(4^2 + 1) \\\\\n",
    "      \\end{bmatrix} $, $b = \\begin{bmatrix}\n",
    "        -1 \\\\\n",
    "        1.5 \\\\\n",
    "        3.1 \\\\\n",
    "        6.3 \\\\\n",
    "        11.1 \\\\\n",
    "        \\end{bmatrix}$\n",
    "\n",
    "</div>"
   ]
  },
  {
   "cell_type": "code",
   "execution_count": 116,
   "metadata": {},
   "outputs": [
    {
     "data": {
      "text/plain": [
       "array([[-2],\n",
       "       [ 0],\n",
       "       [ 1],\n",
       "       [ 2],\n",
       "       [ 4]])"
      ]
     },
     "execution_count": 116,
     "metadata": {},
     "output_type": "execute_result"
    }
   ],
   "source": [
    "x = np.array([[-2],[0],[1],[2],[4]])\n",
    "x"
   ]
  },
  {
   "attachments": {},
   "cell_type": "markdown",
   "metadata": {},
   "source": [
    "Duyệt qua x và tạo ma trận A với số hàng bằng số hàng của x và 3 cột :\n",
    "- Cột thứ nhất là hệ số của a : 1\n",
    "- Cột thứ hai là hệ số của b : x\n",
    "- Cột thứ ba là hệ dó của c : $\\ln(x^2 + 1)$"
   ]
  },
  {
   "cell_type": "code",
   "execution_count": 117,
   "metadata": {},
   "outputs": [
    {
     "name": "stdout",
     "output_type": "stream",
     "text": [
      "Số hàng:  5\n",
      "Sau khi khởi tạo ma trận A: \n",
      "[[0. 0. 0.]\n",
      " [0. 0. 0.]\n",
      " [0. 0. 0.]\n",
      " [0. 0. 0.]\n",
      " [0. 0. 0.]]\n",
      "Ma trận A: \n",
      "[[ 1.         -2.          1.60943791]\n",
      " [ 1.          0.          0.        ]\n",
      " [ 1.          1.          0.69314718]\n",
      " [ 1.          2.          1.60943791]\n",
      " [ 1.          4.          2.83321334]]\n"
     ]
    }
   ],
   "source": [
    "# số hàng của x\n",
    "nr = len(x)\n",
    "print(\"Số hàng: \", nr)\n",
    "\n",
    "# khởi tạo ma trận nr hàng, 3 cột\n",
    "A = np.zeros((nr, 3))\n",
    "print(\"Sau khi khởi tạo ma trận A: \")\n",
    "print(A)\n",
    "\n",
    "for i in range(nr):\n",
    "    A[i][0] = 1\n",
    "    A[i][1] = x[i]\n",
    "    A[i][2] = math.log(x[i] ** 2 + 1)\n",
    "print(\"Ma trận A: \")\n",
    "print(A)\n",
    "    "
   ]
  },
  {
   "cell_type": "code",
   "execution_count": 118,
   "metadata": {},
   "outputs": [
    {
     "name": "stdout",
     "output_type": "stream",
     "text": [
      "[[-1. ]\n",
      " [ 1.5]\n",
      " [ 3.1]\n",
      " [ 6.3]\n",
      " [11.1]]\n"
     ]
    }
   ],
   "source": [
    "b = np.array([[-1],[1.5],[3.1],[6.3],[11.1]])\n",
    "print(b)"
   ]
  },
  {
   "attachments": {},
   "cell_type": "markdown",
   "metadata": {},
   "source": [
    "Tính tích $A^TA$ và gán cho ma trận X:"
   ]
  },
  {
   "cell_type": "code",
   "execution_count": 119,
   "metadata": {},
   "outputs": [
    {
     "data": {
      "text/plain": [
       "array([[ 5.        ,  5.        ,  6.74523635],\n",
       "       [ 5.        , 25.        , 12.02600056],\n",
       "       [ 6.74523635, 12.02600056, 13.68813165]])"
      ]
     },
     "execution_count": 119,
     "metadata": {},
     "output_type": "execute_result"
    }
   ],
   "source": [
    "X = np.matmul(np.transpose(A), A)\n",
    "X"
   ]
  },
  {
   "attachments": {},
   "cell_type": "markdown",
   "metadata": {},
   "source": [
    "Tính tích $A^Tb$ và gán cho ma trận Y"
   ]
  },
  {
   "cell_type": "code",
   "execution_count": 120,
   "metadata": {},
   "outputs": [
    {
     "data": {
      "text/plain": [
       "array([[21.        ],\n",
       "       [62.1       ],\n",
       "       [42.12744531]])"
      ]
     },
     "execution_count": 120,
     "metadata": {},
     "output_type": "execute_result"
    }
   ],
   "source": [
    "Y = np.matmul(np.transpose(A), b)\n",
    "Y"
   ]
  },
  {
   "attachments": {},
   "cell_type": "markdown",
   "metadata": {},
   "source": [
    "Tính nghiệm bình phương tối tiểu:"
   ]
  },
  {
   "cell_type": "code",
   "execution_count": 121,
   "metadata": {},
   "outputs": [
    {
     "data": {
      "text/plain": [
       "array([[1.14446483],\n",
       "       [1.81151861],\n",
       "       [0.92214453]])"
      ]
     },
     "execution_count": 121,
     "metadata": {},
     "output_type": "execute_result"
    }
   ],
   "source": [
    "x_sol_square = np.matmul(np.linalg.inv(X), Y)\n",
    "x_sol_square"
   ]
  },
  {
   "attachments": {},
   "cell_type": "markdown",
   "metadata": {},
   "source": [
    "Vậy nghiệm bình phương tối tiểu của $Ax = b$ là $x$ = $\\left(1.14446483, 1.81151861, 0.92214453\\right)$ </br>\n",
    "$\\Rightarrow$ Các tham số : </br>\n",
    "\n",
    "<div align=\"center\">\n",
    "\n",
    "$a \\simeq 1.14446483 \\\\\n",
    "b \\simeq 1.81151861 \\\\\n",
    "c \\simeq 0.92214453 \\\\ $\n",
    "\n",
    "</div>"
   ]
  },
  {
   "attachments": {},
   "cell_type": "markdown",
   "metadata": {},
   "source": [
    "`b)` Vẽ đồ thị cho dữ liệu:"
   ]
  },
  {
   "cell_type": "code",
   "execution_count": 122,
   "metadata": {},
   "outputs": [
    {
     "data": {
      "image/png": "[encoded data removed]",
      "text/plain": [
       "<Figure size 640x480 with 1 Axes>"
      ]
     },
     "metadata": {},
     "output_type": "display_data"
    }
   ],
   "source": [
    "\n",
    "# Dữ liệu đã được gán phía trên , x -> x, y -> b\n",
    "\n",
    "\n",
    "# Vẽ đồ thị\n",
    "plt.plot(x, b)\n",
    "\n",
    "# Đặt tên cho trục x và trục y\n",
    "plt.xlabel('X')\n",
    "plt.ylabel('Y')\n",
    "\n",
    "# Đặt tiêu đề cho đồ thị\n",
    "title = 'Đồ thị mô hình y = a + bx + cln(x^2+1) '\n",
    "plt.title(title)\n",
    "\n",
    "# Hiển thị đồ thị\n",
    "plt.show()"
   ]
  },
  {
   "attachments": {},
   "cell_type": "markdown",
   "metadata": {},
   "source": [
    "- Dự đoán y khi x = 6.5:"
   ]
  },
  {
   "cell_type": "code",
   "execution_count": 123,
   "metadata": {},
   "outputs": [
    {
     "name": "stdout",
     "output_type": "stream",
     "text": [
      "Khi x = 6.5 : y =  [16.39305168]\n"
     ]
    }
   ],
   "source": [
    "x1 = 6.5\n",
    "res = x_sol_square[0] + x_sol_square[1] * x1 + x_sol_square[2] * math.log(x1 ** 2 + 1)\n",
    "print(\"Khi x = 6.5 : y = \", res)"
   ]
  },
  {
   "attachments": {},
   "cell_type": "markdown",
   "metadata": {},
   "source": [
    "`c)` Có nên dùng mô hình $y = a + bx + c\\ln(x)$ hoặc $y = a + bx + \\frac{c}{x}$ để xấp xỉ dữ liệu trên không ? Vì sao?"
   ]
  }
 ],
 "metadata": {
  "kernelspec": {
   "display_name": "Python 3",
   "language": "python",
   "name": "python3"
  },
  "language_info": {
   "codemirror_mode": {
    "name": "ipython",
    "version": 3
   },
   "file_extension": ".py",
   "mimetype": "text/x-python",
   "name": "python",
   "nbconvert_exporter": "python",
   "pygments_lexer": "ipython3",
   "version": "3.10.11"
  },
  "orig_nbformat": 4
 },
 "nbformat": 4,
 "nbformat_minor": 2
}
